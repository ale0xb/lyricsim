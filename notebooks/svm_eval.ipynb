{
 "cells": [
  {
   "attachments": {},
   "cell_type": "markdown",
   "metadata": {},
   "source": [
    "# Evaluation based on SVM with BOW and TF-IDF"
   ]
  },
  {
   "attachments": {},
   "cell_type": "markdown",
   "metadata": {},
   "source": [
    "### Loading the train, validation and test sets"
   ]
  },
  {
   "cell_type": "code",
   "execution_count": 1,
   "metadata": {},
   "outputs": [],
   "source": [
    "from pathlib import Path\n",
    "import pandas as pd\n",
    "\n",
    "df_train = pd.read_table(Path('../sts/train.tsv'))\n",
    "df_valid = pd.read_table(Path('../sts/valid.tsv'))\n",
    "df_test =  pd.read_table(Path('../sts/test.tsv'))"
   ]
  },
  {
   "attachments": {},
   "cell_type": "markdown",
   "metadata": {},
   "source": [
    "### Loading the model. Tokenizer implementation."
   ]
  },
  {
   "cell_type": "code",
   "execution_count": 2,
   "metadata": {},
   "outputs": [],
   "source": [
    "import spacy \n",
    "import string\n",
    "\n",
    "nlp = spacy.load(\"es_core_news_sm\", disable = ['parser', 'ner'])\n",
    "\n",
    "punctuations = string.punctuation + '...¡¿'\n",
    "stop_words = spacy.lang.es.stop_words.STOP_WORDS\n",
    "\n",
    "def spacy_tokenizer(sentence):\n",
    "    mytokens = nlp(sentence)\n",
    "    mytokens = [ word.lemma_.lower().strip() if word.lemma_ != \"-PRON-\" else word.lower_ for word in mytokens ]\n",
    "    mytokens = [ word for word in mytokens if word not in stop_words and word not in punctuations ]\n",
    "    return mytokens"
   ]
  },
  {
   "attachments": {},
   "cell_type": "markdown",
   "metadata": {},
   "source": [
    "### Fitting Bag of Words and TF-IDF on the training set"
   ]
  },
  {
   "cell_type": "code",
   "execution_count": 3,
   "metadata": {},
   "outputs": [
    {
     "name": "stderr",
     "output_type": "stream",
     "text": [
      "/opt/conda/lib/python3.10/site-packages/sklearn/feature_extraction/text.py:528: UserWarning: The parameter 'token_pattern' will not be used since 'tokenizer' is not None'\n",
      "  warnings.warn(\n"
     ]
    }
   ],
   "source": [
    "from sklearn.feature_extraction.text import TfidfVectorizer\n",
    "\n",
    "vectorizer = TfidfVectorizer(analyzer = 'word', tokenizer=spacy_tokenizer)\n",
    "vectorizer = vectorizer.fit(df_train['sentence1'].to_list() + df_train['sentence2'].to_list())"
   ]
  },
  {
   "attachments": {},
   "cell_type": "markdown",
   "metadata": {},
   "source": [
    "### Transform on the training and test sets"
   ]
  },
  {
   "cell_type": "code",
   "execution_count": 4,
   "metadata": {},
   "outputs": [],
   "source": [
    "\n",
    "def dataset_preprocessing(dataset):    \n",
    "    dataset['lemm_sentence1'] = dataset['sentence1'].map(lambda x: vectorizer.transform([x]))\n",
    "    dataset['lemm_sentence2'] = dataset['sentence2'].map(lambda x: vectorizer.transform([x]))"
   ]
  },
  {
   "cell_type": "code",
   "execution_count": 5,
   "metadata": {},
   "outputs": [],
   "source": [
    "dataset_preprocessing(df_train)\n",
    "dataset_preprocessing(df_test)"
   ]
  },
  {
   "attachments": {},
   "cell_type": "markdown",
   "metadata": {},
   "source": [
    "### SVM algorithm training"
   ]
  },
  {
   "cell_type": "code",
   "execution_count": 6,
   "metadata": {},
   "outputs": [],
   "source": [
    "from sklearn.svm import SVR\n",
    "from scipy.sparse import vstack, hstack\n",
    "\n",
    "X_train =  vstack(df_train.apply(lambda row: hstack([row['lemm_sentence1'], row['lemm_sentence2']]), axis=1))\n",
    "Y_train = df_train['label']\n",
    "\n",
    "svr = SVR(kernel='rbf', C=100)\n",
    "svr = svr.fit(X_train, Y_train)"
   ]
  },
  {
   "attachments": {},
   "cell_type": "markdown",
   "metadata": {},
   "source": [
    "### Predictions on the test set"
   ]
  },
  {
   "cell_type": "code",
   "execution_count": 7,
   "metadata": {},
   "outputs": [],
   "source": [
    "X_test =  vstack(df_test.apply(lambda row: hstack([row['lemm_sentence1'], row['lemm_sentence2']]), axis=1))"
   ]
  },
  {
   "cell_type": "code",
   "execution_count": 8,
   "metadata": {},
   "outputs": [],
   "source": [
    "predictions = svr.predict(X_test)"
   ]
  },
  {
   "attachments": {},
   "cell_type": "markdown",
   "metadata": {},
   "source": [
    "### Evaluation metrics"
   ]
  },
  {
   "cell_type": "code",
   "execution_count": 9,
   "metadata": {},
   "outputs": [
    {
     "name": "stdout",
     "output_type": "stream",
     "text": [
      "Pearson correlation: 0.8578232202724745 9.448269909510543e-21\n",
      "Spearman correlation: 0.8657416550643943 1.6262502575553458e-21\n"
     ]
    }
   ],
   "source": [
    "import scipy.stats as stats\n",
    "\n",
    "# Calculate Pearson correlation\n",
    "pearson_corr, ppvalue = stats.pearsonr(predictions, df_test.label.to_list())\n",
    "print(\"Pearson correlation:\", pearson_corr, ppvalue)\n",
    "\n",
    "# Calculate Spearman correlation\n",
    "spearman_corr,spvalue = stats.spearmanr(predictions, df_test.label.to_list())\n",
    "print(\"Spearman correlation:\", spearman_corr, spvalue)"
   ]
  },
  {
   "cell_type": "code",
   "execution_count": null,
   "metadata": {},
   "outputs": [],
   "source": [
    "Pearson correlation: 0.8579662484049169 9.161386974495875e-21\n",
    "Spearman correlation: 0.8683865482175525 8.811753257446161e-22"
   ]
  }
 ],
 "metadata": {
  "kernelspec": {
   "display_name": "base",
   "language": "python",
   "name": "python3"
  },
  "language_info": {
   "codemirror_mode": {
    "name": "ipython",
    "version": 3
   },
   "file_extension": ".py",
   "mimetype": "text/x-python",
   "name": "python",
   "nbconvert_exporter": "python",
   "pygments_lexer": "ipython3",
   "version": "3.10.8"
  },
  "orig_nbformat": 4
 },
 "nbformat": 4,
 "nbformat_minor": 2
}
